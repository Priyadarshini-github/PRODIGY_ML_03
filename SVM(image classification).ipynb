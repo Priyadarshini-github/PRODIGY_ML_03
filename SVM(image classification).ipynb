{
 "cells": [
  {
   "cell_type": "code",
   "execution_count": 1,
   "id": "f8569cfa",
   "metadata": {},
   "outputs": [],
   "source": [
    "import cv2\n",
    "import numpy as np\n",
    "from sklearn import svm\n",
    "from sklearn.preprocessing import LabelEncoder\n",
    "from sklearn.model_selection import train_test_split\n",
    "from sklearn.svm import SVC\n",
    "from sklearn.metrics import accuracy_score\n",
    "import os"
   ]
  },
  {
   "cell_type": "code",
   "execution_count": 2,
   "id": "667aee00",
   "metadata": {},
   "outputs": [],
   "source": [
    "def load_images_from_folder(folder):\n",
    "    images = []\n",
    "    labels = []\n",
    "    for label in os.listdir(folder):\n",
    "        label_folder = os.path.join(folder, label)\n",
    "        if os.path.isdir(label_folder):\n",
    "            for filename in os.listdir(label_folder):\n",
    "                img_path = os.path.join(label_folder, filename)\n",
    "                img = cv2.imread(img_path, cv2.IMREAD_GRAYSCALE)\n",
    "                if img is not None:\n",
    "                    img = cv2.resize(img, (64, 64))  # Resize to a fixed size\n",
    "                    images.append(img.flatten())  # Flatten the image\n",
    "                    labels.append(label)\n",
    "    return np.array(images), np.array(labels)"
   ]
  },
  {
   "cell_type": "code",
   "execution_count": 3,
   "id": "1f7280e6",
   "metadata": {},
   "outputs": [],
   "source": [
    "train_images, train_labels = load_images_from_folder('C:\\\\Users\\\\CUB\\\\Downloads\\\\pets\\\\train')"
   ]
  },
  {
   "cell_type": "code",
   "execution_count": 4,
   "id": "ab3c7d42",
   "metadata": {},
   "outputs": [],
   "source": [
    "valid_images, valid_labels = load_images_from_folder('C:/Users/CUB/Downloads/pets/valid')"
   ]
  },
  {
   "cell_type": "code",
   "execution_count": 5,
   "id": "05f79802",
   "metadata": {},
   "outputs": [],
   "source": [
    "label_encoder = LabelEncoder()\n",
    "train_labels = label_encoder.fit_transform(train_labels)\n",
    "valid_labels = label_encoder.transform(valid_labels)"
   ]
  },
  {
   "cell_type": "code",
   "execution_count": 6,
   "id": "94e24838",
   "metadata": {},
   "outputs": [],
   "source": [
    "clf = SVC(kernel='linear')"
   ]
  },
  {
   "cell_type": "code",
   "execution_count": 7,
   "id": "2c553e6d",
   "metadata": {},
   "outputs": [
    {
     "data": {
      "text/plain": [
       "SVC(kernel='linear')"
      ]
     },
     "execution_count": 7,
     "metadata": {},
     "output_type": "execute_result"
    }
   ],
   "source": [
    "clf.fit(train_images, train_labels)"
   ]
  },
  {
   "cell_type": "code",
   "execution_count": 8,
   "id": "d86dbed4",
   "metadata": {},
   "outputs": [],
   "source": [
    "valid_predictions = clf.predict(valid_images)"
   ]
  },
  {
   "cell_type": "code",
   "execution_count": 9,
   "id": "dc884259",
   "metadata": {},
   "outputs": [
    {
     "name": "stdout",
     "output_type": "stream",
     "text": [
      "Validation Accuracy: 0.52\n"
     ]
    }
   ],
   "source": [
    "accuracy = accuracy_score(valid_labels, valid_predictions)\n",
    "print(f'Validation Accuracy: {accuracy:.2f}')"
   ]
  },
  {
   "cell_type": "markdown",
   "id": "37c1be7f",
   "metadata": {},
   "source": [
    "# linear grid "
   ]
  },
  {
   "cell_type": "code",
   "execution_count": 10,
   "id": "b4442b25",
   "metadata": {},
   "outputs": [],
   "source": [
    "from sklearn.model_selection import GridSearchCV"
   ]
  },
  {
   "cell_type": "code",
   "execution_count": 18,
   "id": "32223bf1",
   "metadata": {},
   "outputs": [],
   "source": [
    "params={'C':(0.001,0.1,0.5,1,5,10,50,100)}"
   ]
  },
  {
   "cell_type": "code",
   "execution_count": 19,
   "id": "3001ca89",
   "metadata": {},
   "outputs": [],
   "source": [
    "clf_svm_l=svm.SVC(kernel='linear')"
   ]
  },
  {
   "cell_type": "code",
   "execution_count": 20,
   "id": "6657e58d",
   "metadata": {},
   "outputs": [],
   "source": [
    "svm_grid_lin=GridSearchCV(clf_svm_l,params,n_jobs=-1,cv=5,verbose=1,scoring='accuracy')"
   ]
  },
  {
   "cell_type": "code",
   "execution_count": 21,
   "id": "ab413be4",
   "metadata": {},
   "outputs": [
    {
     "name": "stdout",
     "output_type": "stream",
     "text": [
      "Fitting 5 folds for each of 8 candidates, totalling 40 fits\n"
     ]
    },
    {
     "data": {
      "text/plain": [
       "GridSearchCV(cv=5, estimator=SVC(kernel='linear'), n_jobs=-1,\n",
       "             param_grid={'C': (0.001, 0.1, 0.5, 1, 5, 10, 50, 100)},\n",
       "             scoring='accuracy', verbose=1)"
      ]
     },
     "execution_count": 21,
     "metadata": {},
     "output_type": "execute_result"
    }
   ],
   "source": [
    "svm_grid_lin.fit(train_images,train_labels)"
   ]
  },
  {
   "cell_type": "code",
   "execution_count": 22,
   "id": "665424de",
   "metadata": {},
   "outputs": [
    {
     "data": {
      "text/plain": [
       "{'C': 0.001}"
      ]
     },
     "execution_count": 22,
     "metadata": {},
     "output_type": "execute_result"
    }
   ],
   "source": [
    "svm_grid_lin.best_params_"
   ]
  },
  {
   "cell_type": "code",
   "execution_count": 23,
   "id": "c76ce9b6",
   "metadata": {},
   "outputs": [],
   "source": [
    "linsvm_clf=svm_grid_lin.best_estimator_"
   ]
  },
  {
   "cell_type": "code",
   "execution_count": 24,
   "id": "3ac3bfee",
   "metadata": {},
   "outputs": [
    {
     "data": {
      "text/plain": [
       "0.5175"
      ]
     },
     "execution_count": 24,
     "metadata": {},
     "output_type": "execute_result"
    }
   ],
   "source": [
    "accuracy_score(valid_labels,linsvm_clf.predict(valid_images))"
   ]
  },
  {
   "cell_type": "markdown",
   "id": "9db7a18e",
   "metadata": {},
   "source": [
    "# poly grid"
   ]
  },
  {
   "cell_type": "code",
   "execution_count": 29,
   "id": "0f8548c0",
   "metadata": {},
   "outputs": [],
   "source": [
    "params={'C':(0.01,0.1,1,5,10),'degree':(1,2,3)}"
   ]
  },
  {
   "cell_type": "code",
   "execution_count": 30,
   "id": "d3e0b574",
   "metadata": {},
   "outputs": [],
   "source": [
    "clf_svm_p3=svm.SVC(kernel='poly')"
   ]
  },
  {
   "cell_type": "code",
   "execution_count": 33,
   "id": "81d86a25",
   "metadata": {},
   "outputs": [],
   "source": [
    "svm_grid_lin=GridSearchCV(clf_svm_p3,params,n_jobs=-1,cv=3,verbose=1,scoring='accuracy')"
   ]
  },
  {
   "cell_type": "code",
   "execution_count": 34,
   "id": "ddae0c9b",
   "metadata": {},
   "outputs": [
    {
     "name": "stdout",
     "output_type": "stream",
     "text": [
      "Fitting 3 folds for each of 15 candidates, totalling 45 fits\n"
     ]
    },
    {
     "data": {
      "text/plain": [
       "GridSearchCV(cv=3, estimator=SVC(kernel='poly'), n_jobs=-1,\n",
       "             param_grid={'C': (0.01, 0.1, 1, 5, 10), 'degree': (1, 2, 3)},\n",
       "             scoring='accuracy', verbose=1)"
      ]
     },
     "execution_count": 34,
     "metadata": {},
     "output_type": "execute_result"
    }
   ],
   "source": [
    "svm_grid_lin.fit(train_images,train_labels)"
   ]
  },
  {
   "cell_type": "code",
   "execution_count": 35,
   "id": "9811bb24",
   "metadata": {},
   "outputs": [
    {
     "data": {
      "text/plain": [
       "{'C': 0.01, 'degree': 3}"
      ]
     },
     "execution_count": 35,
     "metadata": {},
     "output_type": "execute_result"
    }
   ],
   "source": [
    "svm_grid_lin.best_params_"
   ]
  },
  {
   "cell_type": "code",
   "execution_count": 36,
   "id": "a1a1a5aa",
   "metadata": {},
   "outputs": [],
   "source": [
    "linsvm_clf=svm_grid_lin.best_estimator_"
   ]
  },
  {
   "cell_type": "code",
   "execution_count": 37,
   "id": "8c9e3d82",
   "metadata": {},
   "outputs": [
    {
     "data": {
      "text/plain": [
       "0.598"
      ]
     },
     "execution_count": 37,
     "metadata": {},
     "output_type": "execute_result"
    }
   ],
   "source": [
    "accuracy_score(valid_labels,linsvm_clf.predict(valid_images))"
   ]
  },
  {
   "cell_type": "markdown",
   "id": "53f39a30",
   "metadata": {},
   "source": [
    "# radial grid"
   ]
  },
  {
   "cell_type": "code",
   "execution_count": 46,
   "id": "bbd32a6c",
   "metadata": {},
   "outputs": [],
   "source": [
    "params={'C':(0.001,0.01,0.1,1,10),\n",
    "        'gamma':(0.001,0.1,1)}"
   ]
  },
  {
   "cell_type": "code",
   "execution_count": 47,
   "id": "35ef49be",
   "metadata": {},
   "outputs": [],
   "source": [
    "clf_svm_r=svm.SVC(kernel='rbf')"
   ]
  },
  {
   "cell_type": "code",
   "execution_count": 48,
   "id": "a1d53363",
   "metadata": {},
   "outputs": [],
   "source": [
    "svm_grid_rad=GridSearchCV(clf_svm_r,params,n_jobs=-1,cv=3,verbose=1,scoring='accuracy')"
   ]
  },
  {
   "cell_type": "code",
   "execution_count": 49,
   "id": "b0b3336f",
   "metadata": {},
   "outputs": [
    {
     "name": "stdout",
     "output_type": "stream",
     "text": [
      "Fitting 3 folds for each of 15 candidates, totalling 45 fits\n"
     ]
    },
    {
     "data": {
      "text/plain": [
       "GridSearchCV(cv=3, estimator=SVC(), n_jobs=-1,\n",
       "             param_grid={'C': (0.001, 0.01, 0.1, 1, 10),\n",
       "                         'gamma': (0.001, 0.1, 1)},\n",
       "             scoring='accuracy', verbose=1)"
      ]
     },
     "execution_count": 49,
     "metadata": {},
     "output_type": "execute_result"
    }
   ],
   "source": [
    "svm_grid_rad.fit(train_images,train_labels)"
   ]
  },
  {
   "cell_type": "code",
   "execution_count": 50,
   "id": "b132eacb",
   "metadata": {},
   "outputs": [
    {
     "data": {
      "text/plain": [
       "{'C': 0.001, 'gamma': 0.001}"
      ]
     },
     "execution_count": 50,
     "metadata": {},
     "output_type": "execute_result"
    }
   ],
   "source": [
    "svm_grid_rad.best_params_"
   ]
  },
  {
   "cell_type": "code",
   "execution_count": 51,
   "id": "edcc574b",
   "metadata": {},
   "outputs": [],
   "source": [
    "radsvm_clf=svm_grid_rad.best_estimator_"
   ]
  },
  {
   "cell_type": "code",
   "execution_count": 52,
   "id": "a8efcaa2",
   "metadata": {},
   "outputs": [
    {
     "data": {
      "text/plain": [
       "0.5005"
      ]
     },
     "execution_count": 52,
     "metadata": {},
     "output_type": "execute_result"
    }
   ],
   "source": [
    "accuracy_score(valid_labels,radsvm_clf.predict(valid_images))"
   ]
  },
  {
   "cell_type": "code",
   "execution_count": null,
   "id": "6bc598c7",
   "metadata": {},
   "outputs": [],
   "source": []
  }
 ],
 "metadata": {
  "kernelspec": {
   "display_name": "Python 3 (ipykernel)",
   "language": "python",
   "name": "python3"
  },
  "language_info": {
   "codemirror_mode": {
    "name": "ipython",
    "version": 3
   },
   "file_extension": ".py",
   "mimetype": "text/x-python",
   "name": "python",
   "nbconvert_exporter": "python",
   "pygments_lexer": "ipython3",
   "version": "3.9.13"
  }
 },
 "nbformat": 4,
 "nbformat_minor": 5
}
